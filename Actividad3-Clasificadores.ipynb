{
 "cells": [
  {
   "cell_type": "code",
   "execution_count": 31,
   "metadata": {},
   "outputs": [
    {
     "name": "stdout",
     "output_type": "stream",
     "text": [
      "1.0\n",
      "1.0\n",
      "1.0\n",
      "[0.96666667 0.96666667 0.9        0.96666667 1.        ]\n",
      "[0.96666667 1.         1.         0.93333333 1.        ]\n",
      "[0.96666667 0.96666667 0.96666667 0.93333333 1.        ]\n"
     ]
    }
   ],
   "source": [
    "import pandas as pd\n",
    "import numpy as np\n",
    "from sklearn.tree import DecisionTreeClassifier\n",
    "from sklearn.neighbors import KNeighborsClassifier\n",
    "from sklearn import preprocessing\n",
    "from sklearn import model_selection\n",
    "from sklearn import svm\n",
    "from sklearn.metrics import accuracy_score\n",
    "\n",
    "#Leemos csv\n",
    "data = pd.read_csv('iris.csv')\n",
    "\n",
    "#Creamos instancia para el clasificador de Árbol de decisión\n",
    "dTreeClassifier = DecisionTreeClassifier()\n",
    "#Creamos instancia para el clasificador de KNN\n",
    "knnClassifier = KNeighborsClassifier(n_neighbors=10)\n",
    "#Creamos instancia para el clasificador de SVM\n",
    "svmClassifier = svm.SVC()\n",
    "\n",
    "#Separamos en datos y etiquetas\n",
    "X = data.iloc[:, 1:-1].to_numpy() #todas las filas, todas las columnas menos la última\n",
    "Y = data.iloc[:, -1].to_numpy() #todas las filas, sólo la última columna\n",
    "\n",
    "#Obtener datos de entrenamiento y de pruebas\n",
    "xTrain, xTest, yTrain, yTest = model_selection.train_test_split(X, Y, test_size=0.2) #test size es un %\n",
    "\n",
    "#normalizar para SVM\n",
    "normalizer = preprocessing.MinMaxScaler() #generar normalizador\n",
    "normalizer = normalizer.fit(xTrain) #sólo hacer la normalización/estandarización con los datos de entrenamiento\n",
    "xTrainNew = normalizer.transform(xTrain)\n",
    "\n",
    "#fit: entrenar nuestro clasificador \n",
    "dTreeClassifier = dTreeClassifier.fit(xTrain,yTrain)\n",
    "knnClassifier = knnClassifier.fit(xTrain, yTrain)\n",
    "svmClassifier = svmClassifier.fit(xTrainNew, yTrain)\n",
    "\n",
    "#transformar datos de pruebas\n",
    "xTestNew = normalizer.transform(xTest)\n",
    "\n",
    "#Verificamos que las pruebas hayan sido exitosas\n",
    "print(accuracy_score(yTest, dTreeClassifier.predict(xTest)))\n",
    "print(accuracy_score(yTest, knnClassifier.predict(xTest)))\n",
    "print(accuracy_score(yTest, svmClassifier.predict(xTestNew)))\n",
    "\n",
    "print(model_selection.cross_val_score(dTreeClassifier, X, Y, cv=5))\n",
    "print(model_selection.cross_val_score(knnClassifier, X, Y, cv=5))\n",
    "print(model_selection.cross_val_score(svmClassifier, X, Y, cv=5))\n",
    "\n"
   ]
  }
 ],
 "metadata": {
  "interpreter": {
   "hash": "fbb303e5cb88e7038ec3bc0743ef90678fa91244e060eff79bcd7ba139b6f1e6"
  },
  "kernelspec": {
   "display_name": "Python 3.8.8 ('applesenv': venv)",
   "language": "python",
   "name": "python3"
  },
  "language_info": {
   "codemirror_mode": {
    "name": "ipython",
    "version": 3
   },
   "file_extension": ".py",
   "mimetype": "text/x-python",
   "name": "python",
   "nbconvert_exporter": "python",
   "pygments_lexer": "ipython3",
   "version": "3.8.8"
  },
  "orig_nbformat": 4
 },
 "nbformat": 4,
 "nbformat_minor": 2
}
